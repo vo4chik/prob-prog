{
 "cells": [
  {
   "cell_type": "code",
   "execution_count": 1,
   "metadata": {},
   "outputs": [],
   "source": [
    "import numpy as np\n",
    "\n",
    "import torch\n",
    "import torch.nn.functional as F\n",
    "from torch.distributions import constraints\n",
    "\n",
    "import pyro\n",
    "import pyro.infer\n",
    "import pyro.optim\n",
    "import pyro.distributions as dist\n",
    "\n",
    "import matplotlib.pyplot as plt"
   ]
  },
  {
   "cell_type": "code",
   "execution_count": 17,
   "metadata": {},
   "outputs": [],
   "source": [
    "def make_data(N):\n",
    "    X = torch.rand((N, 1)) * 4 - 2\n",
    "    y = torch.cos(X) + 0.1 * torch.randn((N, 1))\n",
    "    return X, y\n",
    "\n",
    "N = 10\n",
    "X_train, y_train = make_data(N)\n",
    "X_test , y_test = make_data(4000)"
   ]
  },
  {
   "cell_type": "code",
   "execution_count": 18,
   "metadata": {},
   "outputs": [],
   "source": [
    "def model(x):\n",
    "    w0 = pyro.sample('w0', dist.Normal(torch.zeros(1, 2), torch.ones(1, 2)))\n",
    "    w1 = pyro.sample('w1', dist.Normal(torch.zeros(2, 1), torch.ones(2, 1)))\n",
    "    b0 = pyro.sample('b0', dist.Normal(torch.zeros(2), torch.ones(2)))\n",
    "    b1 = pyro.sample('b1', dist.Normal(torch.zeros(1), torch.ones(1)))\n",
    "    return pyro.sample('y', dist.Normal(torch.tanh(x @ w0 + b0) @ w1 + b1, 0.1))\n",
    "\n",
    "def guide(x):\n",
    "    w0 = pyro.sample('w0', dist.Normal(\n",
    "        pyro.param('qw0/loc', 0.01 * torch.randn(1, 2)),\n",
    "        pyro.param('qw0/scale', torch.ones(1, 2), constraint=constraints.positive)))\n",
    "    w1 = pyro.sample('w1', dist.Normal(\n",
    "        pyro.param('qw1/loc', 0.01 * torch.randn(2, 1)),\n",
    "        pyro.param('qw1/scale', torch.ones(2, 1), constraint=constraints.positive)))\n",
    "    b0 = pyro.sample('b0', dist.Normal(\n",
    "        pyro.param('qb0/loc', 0.01 * torch.randn(2)),\n",
    "        pyro.param('qb0/scale', torch.ones(2), constraint=constraints.positive)))\n",
    "    b1 = pyro.sample('b1', dist.Normal(\n",
    "        pyro.param('qb1/loc', 0.01 * torch.randn(1)),\n",
    "        pyro.param('qb1/scale', torch.ones(1), constraint=constraints.positive)))\n",
    "    return pyro.sample('y', dist.Normal(torch.tanh(x @ w0 + b0) @ w1 + b1, 0.1))\n",
    "\n",
    "conditioned_model = pyro.condition(model, data={'y': y_train})\n"
   ]
  },
  {
   "cell_type": "code",
   "execution_count": 19,
   "metadata": {},
   "outputs": [],
   "source": [
    "class Averager:\n",
    "    def __init__(self, alpha=0.98):\n",
    "        self.alpha = alpha\n",
    "        self.sum = 0\n",
    "        self.x = 0\n",
    "    \n",
    "    def __call__(self, x):\n",
    "        self.x = self.alpha * self.x + (1 - self.alpha) * x\n",
    "        self.sum = self.alpha * self.sum + (1 - self.alpha)\n",
    "        return self.x / self.sum"
   ]
  },
  {
   "cell_type": "code",
   "execution_count": 20,
   "metadata": {},
   "outputs": [
    {
     "name": "stdout",
     "output_type": "stream",
     "text": [
      "Step     0 Loss 1653.495\n",
      "Step   500 Loss 293.068\n",
      "Step  1000 Loss 164.505\n",
      "Step  1500 Loss 140.098\n",
      "Step  2000 Loss 123.938\n",
      "Step  2500 Loss 111.674\n",
      "Step  3000 Loss 105.862\n",
      "Step  3500 Loss 102.998\n",
      "Step  4000 Loss 94.197\n",
      "Step  4500 Loss 76.893\n",
      "Step  5000 Loss 61.085\n",
      "Step  5500 Loss 34.449\n",
      "Step  6000 Loss 26.449\n",
      "Step  6500 Loss 24.194\n",
      "Step  7000 Loss 23.272\n",
      "Step  7500 Loss 23.313\n",
      "Step  8000 Loss 22.435\n",
      "Step  8500 Loss 23.362\n",
      "Step  9000 Loss 22.642\n",
      "Step  9500 Loss 22.670\n",
      "Step 10000 Loss 22.537\n",
      "Step 10500 Loss 21.881\n",
      "Step 11000 Loss 22.350\n",
      "Step 11500 Loss 22.728\n",
      "Step 12000 Loss 21.673\n",
      "Step 12500 Loss 22.899\n",
      "Step 13000 Loss 22.378\n",
      "Step 13500 Loss 22.384\n",
      "Step 14000 Loss 22.736\n",
      "Step 14500 Loss 22.519\n",
      "Step 15000 Loss 22.373\n",
      "Step 15500 Loss 22.363\n"
     ]
    },
    {
     "data": {
      "text/plain": [
       "[<matplotlib.lines.Line2D at 0x7f2db4c2dcf8>]"
      ]
     },
     "execution_count": 20,
     "metadata": {},
     "output_type": "execute_result"
    },
    {
     "data": {
      "image/png": "[encoded data removed]",
      "text/plain": [
       "<Figure size 432x288 with 1 Axes>"
      ]
     },
     "metadata": {
      "needs_background": "light"
     },
     "output_type": "display_data"
    }
   ],
   "source": [
    "pyro.clear_param_store()\n",
    "\n",
    "svi = pyro.infer.SVI(model=conditioned_model\n",
    "                    ,guide=guide\n",
    "                    ,optim=pyro.optim.Adam({'lr': 0.005})\n",
    "                    ,loss=pyro.infer.Trace_ELBO())\n",
    "\n",
    "losses = []\n",
    "loss_avg = Averager()\n",
    "for step in range(16000):\n",
    "    losses.append(loss_avg(svi.step(X_train)))\n",
    "    if step % 500 == 0:\n",
    "        print('Step {:>5d} Loss {:.3f}'.format(step, losses[-1]))\n",
    "\n",
    "plt.plot(losses)"
   ]
  },
  {
   "cell_type": "code",
   "execution_count": 22,
   "metadata": {},
   "outputs": [],
   "source": [
    "w0 = pyro.param('qw0/loc')\n",
    "w1 = pyro.param('qw1/loc')\n",
    "b0 = pyro.param('qb0/loc')\n",
    "b1 = pyro.param('qb1/loc')\n",
    "\n",
    "y_pred = torch.tanh(X_test @ w0 + b0) @ w1 + b1"
   ]
  },
  {
   "cell_type": "code",
   "execution_count": 23,
   "metadata": {},
   "outputs": [
    {
     "data": {
      "text/plain": [
       "<matplotlib.collections.PathCollection at 0x7f2db4c1b588>"
      ]
     },
     "execution_count": 23,
     "metadata": {},
     "output_type": "execute_result"
    },
    {
     "data": {
      "image/png": "[encoded data removed]",
      "text/plain": [
       "<Figure size 432x288 with 1 Axes>"
      ]
     },
     "metadata": {
      "needs_background": "light"
     },
     "output_type": "display_data"
    }
   ],
   "source": [
    "plt.scatter(X_test, y_pred.detach().numpy())"
   ]
  },
  {
   "cell_type": "code",
   "execution_count": 24,
   "metadata": {},
   "outputs": [
    {
     "data": {
      "text/plain": [
       "<matplotlib.collections.PathCollection at 0x7f2db4b7e4e0>"
      ]
     },
     "execution_count": 24,
     "metadata": {},
     "output_type": "execute_result"
    },
    {
     "data": {
      "image/png": "[encoded data removed]",
      "text/plain": [
       "<Figure size 432x288 with 1 Axes>"
      ]
     },
     "metadata": {
      "needs_background": "light"
     },
     "output_type": "display_data"
    }
   ],
   "source": [
    "plt.scatter(X_test, guide(X_test).detach())"
   ]
  },
  {
   "cell_type": "code",
   "execution_count": 25,
   "metadata": {},
   "outputs": [
    {
     "data": {
      "text/plain": [
       "<matplotlib.collections.PathCollection at 0x7f2db4b599e8>"
      ]
     },
     "execution_count": 25,
     "metadata": {},
     "output_type": "execute_result"
    },
    {
     "data": {
      "image/png": "[encoded data removed]",
      "text/plain": [
       "<Figure size 432x288 with 1 Axes>"
      ]
     },
     "metadata": {
      "needs_background": "light"
     },
     "output_type": "display_data"
    }
   ],
   "source": [
    "plt.scatter(X_train, y_train)"
   ]
  },
  {
   "cell_type": "code",
   "execution_count": null,
   "metadata": {},
   "outputs": [],
   "source": []
  }
 ],
 "metadata": {
  "kernelspec": {
   "display_name": "Python 3",
   "language": "python",
   "name": "python3"
  },
  "language_info": {
   "codemirror_mode": {
    "name": "ipython",
    "version": 3
   },
   "file_extension": ".py",
   "mimetype": "text/x-python",
   "name": "python",
   "nbconvert_exporter": "python",
   "pygments_lexer": "ipython3",
   "version": "3.7.3"
  }
 },
 "nbformat": 4,
 "nbformat_minor": 2
}
